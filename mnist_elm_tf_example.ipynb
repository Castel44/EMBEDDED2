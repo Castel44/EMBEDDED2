{
 "cells": [
  {
   "cell_type": "markdown",
   "metadata": {},
   "source": [
    "# TensorFlow ELM example with Normal Equation Choleski-based Matrix Solver "
   ]
  },
  {
   "cell_type": "code",
   "execution_count": 1,
   "metadata": {},
   "outputs": [
    {
     "name": "stderr",
     "output_type": "stream",
     "text": [
      "/usr/local/lib/python3.6/dist-packages/h5py/__init__.py:36: FutureWarning: Conversion of the second argument of issubdtype from `float` to `np.floating` is deprecated. In future, it will be treated as `np.float64 == np.dtype(float).type`.\n",
      "  from ._conv import register_converters as _register_converters\n",
      "Using TensorFlow backend.\n"
     ]
    }
   ],
   "source": [
    "import keras \n",
    "from keras.datasets import mnist\n",
    "import os\n",
    "import tensorflow as tf"
   ]
  },
  {
   "cell_type": "code",
   "execution_count": 2,
   "metadata": {},
   "outputs": [],
   "source": [
    "mnist_data = mnist.load_data(os.path.join(os.getcwd(), 'mnist_dataset.csv'))"
   ]
  },
  {
   "cell_type": "code",
   "execution_count": 3,
   "metadata": {},
   "outputs": [],
   "source": [
    "train_set, test_set = mnist_data\n",
    "x_train, y_train = train_set\n",
    "x_test, y_test = test_set"
   ]
  },
  {
   "cell_type": "code",
   "execution_count": 4,
   "metadata": {},
   "outputs": [],
   "source": [
    "y_train = keras.utils.to_categorical(y_train, num_classes=10)\n",
    "y_test = keras .utils.to_categorical(y_test, num_classes=10)"
   ]
  },
  {
   "cell_type": "code",
   "execution_count": 5,
   "metadata": {},
   "outputs": [
    {
     "data": {
      "text/plain": [
       "(60000, 784)"
      ]
     },
     "execution_count": 5,
     "metadata": {},
     "output_type": "execute_result"
    }
   ],
   "source": [
    "x_train = x_train.reshape(-1,28*28)\n",
    "x_test=x_test.reshape(-1,28*28)\n",
    "x_train.shape"
   ]
  },
  {
   "cell_type": "markdown",
   "metadata": {},
   "source": [
    "## define ELM core computational TF graph "
   ]
  },
  {
   "cell_type": "code",
   "execution_count": 9,
   "metadata": {},
   "outputs": [],
   "source": [
    "with tf.name_scope(\"elm\"): \n",
    "    \n",
    "    with tf.name_scope(\"input\"):\n",
    "        input = tf.placeholder(tf.float32, shape=[None, 28*28], name=\"input\")\n",
    "        y = tf.placeholder(tf.float32, shape=[None, 10], name=\"input\")\n",
    "           \n",
    "        \n",
    "    with tf.name_scope(\"hidden_layer_1\"):\n",
    "        weights = tf.Variable(tf.random_normal(shape=[28*28,1024], stddev=1), trainable=False)\n",
    "        biases = tf.Variable(tf.random_normal(shape=[1024], stddev=1),trainable=False)\n",
    "        \n",
    "        pre_activations = tf.matmul(input, weights) + biases\n",
    "        \n",
    "        activations = tf.sigmoid(pre_activations)\n",
    "        \n",
    "    "
   ]
  },
  {
   "cell_type": "markdown",
   "metadata": {},
   "source": [
    "## Training and Testing of ELM "
   ]
  },
  {
   "cell_type": "markdown",
   "metadata": {},
   "source": [
    "**note how training is done via batching. \n",
    "After the activation matrix has been obtained (conc in the code) the solver is called.**\n",
    "\n",
    "**Testing is made in one-pass thereafter**\n",
    "** note how it is necessary to specify a different graph part for testing and prediction**"
   ]
  },
  {
   "cell_type": "code",
   "execution_count": 21,
   "metadata": {},
   "outputs": [
    {
     "name": "stdout",
     "output_type": "stream",
     "text": [
      "initialized\n",
      "(10000, 784)\n",
      "(10000, 784)\n",
      "(10000, 784)\n",
      "(10000, 784)\n",
      "(10000, 784)\n",
      "(10000, 784)\n",
      "initialized\n"
     ]
    }
   ],
   "source": [
    "# get activations via batches \n",
    "with tf.Session() as sess:\n",
    "    tf.initialize_all_variables().run()\n",
    "    print(\"initialized\")\n",
    "    batch_size = 10000 \n",
    "    \n",
    "    num_batches = x_train.shape[0]//batch_size\n",
    "    \n",
    "    \n",
    "    for i in range(num_batches):\n",
    "        \n",
    "        X_train = x_train[i*batch_size:((i+1)*batch_size)].astype('float32')\n",
    "        Y_train = y_train[i*batch_size:((i+1)*batch_size)].astype('float32')\n",
    "        print(X_train.shape)\n",
    "        if i == 0: \n",
    "            act_prev = sess.run(activations,feed_dict={input:X_train, y:Y_train})\n",
    "        else:\n",
    "            act = sess.run(activations,feed_dict={input:X_train, y:Y_train})\n",
    "            conc=tf.concat((act_prev,act),axis=0)\n",
    "            act_prev=conc\n",
    "    \n",
    "    with tf.name_scope(\"optimizer\"):\n",
    "        optimum = tf.matrix_solve_ls(conc, y, 0,fast=True) \n",
    "        # the second is L2 reg parameter optimal is 100 to 1000\n",
    "\n",
    "    with tf.name_scope(\"output_layer\"):\n",
    "        output = tf.matmul(conc,optimum)\n",
    "        \n",
    "    \n",
    "    with tf.name_scope(\"accuracy\"):\n",
    "        correct_prediction = tf.equal(tf.argmax(output, 1), tf.argmax(y, 1))\n",
    "        accuracy = tf.reduce_mean(tf.cast(correct_prediction, tf.float32))\n",
    "        \n",
    "    with tf.name_scope(\"test\"):\n",
    "        opt = tf.placeholder(tf.float32, shape=[1024, 10], name=\"input_for_test\")\n",
    "        output_test = tf.matmul(activations,opt)\n",
    "        test_correct_prediction = tf.equal(tf.argmax(output_test, 1), tf.argmax(y, 1))\n",
    "        accuracy_test = tf.reduce_mean(tf.cast(test_correct_prediction, tf.float32))\n",
    "    \n",
    "    \n",
    "    print(\"initialized\")\n",
    "\n",
    "    \n",
    "    acc_train,weights=sess.run([accuracy,optimum],feed_dict={input:x_train, y:y_train})\n",
    "    acc_test=sess.run([accuracy_test],feed_dict={input:x_test, y:y_test, opt:weights})\n",
    "        "
   ]
  },
  {
   "cell_type": "code",
   "execution_count": 24,
   "metadata": {},
   "outputs": [
    {
     "name": "stdout",
     "output_type": "stream",
     "text": [
      "[0.9216]\n",
      "0.9213\n"
     ]
    }
   ],
   "source": [
    "print(acc_test)\n",
    "print(acc_train)"
   ]
  },
  {
   "cell_type": "code",
   "execution_count": 20,
   "metadata": {},
   "outputs": [
    {
     "data": {
      "text/plain": [
       "[0.0992]"
      ]
     },
     "execution_count": 20,
     "metadata": {},
     "output_type": "execute_result"
    }
   ],
   "source": [
    "\n",
    "\n",
    "    \n",
    "        \n",
    "    \n",
    "    "
   ]
  },
  {
   "cell_type": "code",
   "execution_count": null,
   "metadata": {},
   "outputs": [],
   "source": []
  },
  {
   "cell_type": "code",
   "execution_count": null,
   "metadata": {},
   "outputs": [],
   "source": []
  }
 ],
 "metadata": {
  "kernelspec": {
   "display_name": "Python 3",
   "language": "python",
   "name": "python3"
  },
  "language_info": {
   "codemirror_mode": {
    "name": "ipython",
    "version": 3
   },
   "file_extension": ".py",
   "mimetype": "text/x-python",
   "name": "python",
   "nbconvert_exporter": "python",
   "pygments_lexer": "ipython3",
   "version": "3.6.3"
  }
 },
 "nbformat": 4,
 "nbformat_minor": 2
}
