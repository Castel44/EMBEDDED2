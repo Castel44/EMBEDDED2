{
 "cells": [
  {
   "cell_type": "code",
   "execution_count": 1,
   "metadata": {},
   "outputs": [
    {
     "name": "stderr",
     "output_type": "stream",
     "text": [
      "/usr/local/lib/python3.6/dist-packages/h5py/__init__.py:36: FutureWarning: Conversion of the second argument of issubdtype from `float` to `np.floating` is deprecated. In future, it will be treated as `np.float64 == np.dtype(float).type`.\n",
      "  from ._conv import register_converters as _register_converters\n",
      "Using TensorFlow backend.\n"
     ]
    }
   ],
   "source": [
    "import keras \n",
    "from keras.datasets import mnist\n",
    "import os"
   ]
  },
  {
   "cell_type": "code",
   "execution_count": 2,
   "metadata": {},
   "outputs": [],
   "source": [
    "mnist_data = mnist.load_data(os.path.join(os.getcwd(), 'mnist_dataset.csv'))"
   ]
  },
  {
   "cell_type": "code",
   "execution_count": 3,
   "metadata": {},
   "outputs": [],
   "source": [
    "train_set, test_set = mnist_data\n",
    "x_train, y_train = train_set\n",
    "x_test, y_test = test_set"
   ]
  },
  {
   "cell_type": "code",
   "execution_count": 4,
   "metadata": {},
   "outputs": [],
   "source": [
    "import hpelm \n"
   ]
  },
  {
   "cell_type": "code",
   "execution_count": 5,
   "metadata": {},
   "outputs": [],
   "source": [
    "y_test = keras .utils.to_categorical(y_test, num_classes=10)\n",
    "y_train = keras .utils.to_categorical(y_train, num_classes=10)"
   ]
  },
  {
   "cell_type": "code",
   "execution_count": 6,
   "metadata": {},
   "outputs": [],
   "source": [
    "from sklearn.preprocessing import StandardScaler\n",
    "scaler = StandardScaler()\n",
    "x_train = x_train.reshape(-1,28*28)\n",
    "x_test = x_test.reshape(-1,28*28)"
   ]
  },
  {
   "cell_type": "code",
   "execution_count": 7,
   "metadata": {},
   "outputs": [
    {
     "name": "stderr",
     "output_type": "stream",
     "text": [
      "/usr/local/lib/python3.6/dist-packages/sklearn/utils/validation.py:475: DataConversionWarning: Data with input dtype uint8 was converted to float64 by StandardScaler.\n",
      "  warnings.warn(msg, DataConversionWarning)\n"
     ]
    }
   ],
   "source": [
    "x_train = scaler.fit_transform(x_train)\n",
    "x_test = scaler.transform(x_test)"
   ]
  },
  {
   "cell_type": "code",
   "execution_count": 8,
   "metadata": {},
   "outputs": [],
   "source": [
    "# performance measures\n",
    "from sklearn.metrics import classification_report\n",
    "from sklearn.metrics import confusion_matrix\n"
   ]
  },
  {
   "cell_type": "code",
   "execution_count": 9,
   "metadata": {},
   "outputs": [],
   "source": [
    "# autoencoder model\n",
    "autoenc = hpelm.ELM(x_train.shape[1], x_train.shape[1], batch=1000, classification='r',\n",
    "precision='single')"
   ]
  },
  {
   "cell_type": "code",
   "execution_count": 10,
   "metadata": {},
   "outputs": [],
   "source": [
    "autoenc.add_neurons(784, 'tanh')"
   ]
  },
  {
   "cell_type": "code",
   "execution_count": 11,
   "metadata": {},
   "outputs": [
    {
     "name": "stdout",
     "output_type": "stream",
     "text": [
      "ELM with 784 inputs and 784 outputs\n",
      "Hidden layer neurons: 784 tanh\n"
     ]
    }
   ],
   "source": [
    "print(autoenc)\n",
    "import time"
   ]
  },
  {
   "cell_type": "code",
   "execution_count": 12,
   "metadata": {},
   "outputs": [],
   "source": [
    "t = time.time()\n",
    "autoenc.train(x_train, x_train,'r')"
   ]
  },
  {
   "cell_type": "code",
   "execution_count": 13,
   "metadata": {},
   "outputs": [
    {
     "name": "stdout",
     "output_type": "stream",
     "text": [
      "Training time: 6.905664\n",
      "Training Accuracy:  0.7511260296252638\n",
      "\n",
      "Test Accuracy: 0.72535 \n",
      "Training done in  6.905663967132568 seconds!!\n",
      "###############################################################################################\n"
     ]
    }
   ],
   "source": [
    "elapsed_time_train = time.time() - t\n",
    "pred_train = autoenc.predict(x_train)\n",
    "print(\"Training time: %f\" % elapsed_time_train)\n",
    "print('Training Accuracy: ', (1 - autoenc.error(x_train, pred_train)))\n",
    "print()\n",
    "pred_test = autoenc.predict(x_test)\n",
    "print('Test Accuracy: %.5f ' % (1-autoenc.error(x_test,pred_test)))\n",
    "\n",
    "print(\"Training done in \", (elapsed_time_train), \"seconds!!\")\n",
    "print(\"###############################################################################################\")"
   ]
  },
  {
   "cell_type": "code",
   "execution_count": 14,
   "metadata": {},
   "outputs": [],
   "source": [
    "int_rep= autoenc.project(x_train)"
   ]
  },
  {
   "cell_type": "code",
   "execution_count": 15,
   "metadata": {},
   "outputs": [
    {
     "data": {
      "text/plain": [
       "(784, 784)"
      ]
     },
     "execution_count": 15,
     "metadata": {},
     "output_type": "execute_result"
    }
   ],
   "source": [
    "B_auto = autoenc.nnet.get_B()\n",
    "B_auto.shape\n",
    "import numpy as np\n",
    "B_t = np.transpose(B_auto)\n",
    "B_t.shape"
   ]
  },
  {
   "cell_type": "code",
   "execution_count": 16,
   "metadata": {},
   "outputs": [
    {
     "data": {
      "text/plain": [
       "(784, 784)"
      ]
     },
     "execution_count": 16,
     "metadata": {},
     "output_type": "execute_result"
    }
   ],
   "source": [
    "import numpy as np\n",
    "random_weights = np.random.randn(B_t.shape[1], 784)\n",
    "random_weights.shape\n"
   ]
  },
  {
   "cell_type": "code",
   "execution_count": 17,
   "metadata": {},
   "outputs": [],
   "source": [
    "x_train2 = np.tanh((np.dot(x_train,B_t)))"
   ]
  },
  {
   "cell_type": "code",
   "execution_count": 18,
   "metadata": {},
   "outputs": [
    {
     "data": {
      "text/plain": [
       "(60000, 784)"
      ]
     },
     "execution_count": 18,
     "metadata": {},
     "output_type": "execute_result"
    }
   ],
   "source": [
    "x_train2.shape"
   ]
  },
  {
   "cell_type": "code",
   "execution_count": 19,
   "metadata": {},
   "outputs": [],
   "source": [
    "x_test2 = np.tanh((np.dot(x_test,B_t)))"
   ]
  },
  {
   "cell_type": "code",
   "execution_count": 20,
   "metadata": {},
   "outputs": [
    {
     "data": {
      "text/plain": [
       "(10000, 784)"
      ]
     },
     "execution_count": 20,
     "metadata": {},
     "output_type": "execute_result"
    }
   ],
   "source": [
    "x_test2.shape"
   ]
  },
  {
   "cell_type": "code",
   "execution_count": 21,
   "metadata": {},
   "outputs": [],
   "source": [
    "model = hpelm.ELM(x_train2.shape[1], y_train.shape[1] , batch=1000, classification='c',\n",
    "precision='single')"
   ]
  },
  {
   "cell_type": "code",
   "execution_count": 22,
   "metadata": {},
   "outputs": [
    {
     "name": "stdout",
     "output_type": "stream",
     "text": [
      "ELM with 784 inputs and 10 outputs\n",
      "Hidden layer neurons: 500 sigm\n"
     ]
    }
   ],
   "source": [
    "model.add_neurons(500, 'sigm')\n",
    "print(model)"
   ]
  },
  {
   "cell_type": "code",
   "execution_count": 23,
   "metadata": {},
   "outputs": [],
   "source": [
    "t = time.time()\n",
    "model.train(x_train2, y_train,'c')\n",
    "elapsed_time_train = time.time() - t\n"
   ]
  },
  {
   "cell_type": "code",
   "execution_count": 24,
   "metadata": {},
   "outputs": [
    {
     "name": "stdout",
     "output_type": "stream",
     "text": [
      "Training time: 2.664533\n",
      "Training Accuracy:  0.9005166666666666\n",
      "\n",
      "Test Accuracy: 0.90020 \n",
      "Training done in  2.6645331382751465 seconds!!\n",
      "###############################################################################################\n"
     ]
    }
   ],
   "source": [
    "pred_train = model.predict(x_train2)\n",
    "print(\"Training time: %f\" % elapsed_time_train)\n",
    "print('Training Accuracy: ', (1 - model.error(y_train, pred_train)))\n",
    "print()\n",
    "pred_test = model.predict(x_test2)\n",
    "print('Test Accuracy: %.5f ' % (1-model.error(y_test,pred_test)))\n",
    "\n",
    "print(\"Training done in \", (elapsed_time_train), \"seconds!!\")\n",
    "print(\"###############################################################################################\")"
   ]
  },
  {
   "cell_type": "code",
   "execution_count": 25,
   "metadata": {},
   "outputs": [
    {
     "name": "stdout",
     "output_type": "stream",
     "text": [
      "ELM with 784 inputs and 10 outputs\n",
      "Hidden layer neurons: 500 sigm\n"
     ]
    }
   ],
   "source": [
    "model = hpelm.ELM(x_train.shape[1], y_train.shape[1] , batch=1000, classification='c',\n",
    "precision='single')\n",
    "model.add_neurons(500, 'sigm')\n",
    "print(model)"
   ]
  },
  {
   "cell_type": "code",
   "execution_count": 26,
   "metadata": {},
   "outputs": [],
   "source": [
    "t = time.time()\n",
    "model.train(x_train, y_train,'c')\n",
    "elapsed_time_train = time.time() - t\n"
   ]
  },
  {
   "cell_type": "code",
   "execution_count": 27,
   "metadata": {},
   "outputs": [
    {
     "name": "stdout",
     "output_type": "stream",
     "text": [
      "Training time: 2.727609\n",
      "Training Accuracy:  0.8807666666666667\n",
      "\n",
      "Test Accuracy: 0.88490 \n",
      "Training done in  2.727609395980835 seconds!!\n",
      "###############################################################################################\n"
     ]
    }
   ],
   "source": [
    "pred_train = model.predict(x_train)\n",
    "print(\"Training time: %f\" % elapsed_time_train)\n",
    "print('Training Accuracy: ', (1 - model.error(y_train, pred_train)))\n",
    "print()\n",
    "pred_test = model.predict(x_test)\n",
    "print('Test Accuracy: %.5f ' % (1-model.error(y_test,pred_test)))\n",
    "\n",
    "print(\"Training done in \", (elapsed_time_train), \"seconds!!\")\n",
    "print(\"###############################################################################################\")"
   ]
  },
  {
   "cell_type": "code",
   "execution_count": 28,
   "metadata": {},
   "outputs": [
    {
     "data": {
      "text/plain": [
       "(60000, 784)"
      ]
     },
     "execution_count": 28,
     "metadata": {},
     "output_type": "execute_result"
    }
   ],
   "source": [
    "x_train2.shape\n"
   ]
  },
  {
   "cell_type": "code",
   "execution_count": 29,
   "metadata": {},
   "outputs": [],
   "source": [
    "import matplotlib.pyplot as plt"
   ]
  },
  {
   "cell_type": "code",
   "execution_count": 30,
   "metadata": {},
   "outputs": [],
   "source": [
    "def plot_image(image):\n",
    "    plt.imshow(image.reshape((28,28)),\n",
    "               interpolation='nearest',\n",
    "               cmap='binary')\n",
    "\n",
    "    plt.show()"
   ]
  },
  {
   "cell_type": "code",
   "execution_count": 31,
   "metadata": {},
   "outputs": [
    {
     "data": {
      "image/png": "[encoded data removed]",
      "text/plain": [
       "<matplotlib.figure.Figure at 0x7fbeccada630>"
      ]
     },
     "metadata": {},
     "output_type": "display_data"
    },
    {
     "data": {
      "image/png": "[encoded data removed]",
      "text/plain": [
       "<matplotlib.figure.Figure at 0x7fbeccd5edd8>"
      ]
     },
     "metadata": {},
     "output_type": "display_data"
    },
    {
     "data": {
      "image/png": "[encoded data removed]",
      "text/plain": [
       "<matplotlib.figure.Figure at 0x7fbec6eadcc0>"
      ]
     },
     "metadata": {},
     "output_type": "display_data"
    }
   ],
   "source": [
    "plot_image(x_train2[0])\n",
    "plot_image(x_train[0])\n",
    "plot_image(int_rep[0])\n"
   ]
  },
  {
   "cell_type": "code",
   "execution_count": 32,
   "metadata": {},
   "outputs": [],
   "source": [
    "y_autoenc = np.dot(int_rep,B_auto)\n"
   ]
  },
  {
   "cell_type": "code",
   "execution_count": 33,
   "metadata": {},
   "outputs": [
    {
     "data": {
      "image/png": "[encoded data removed]",
      "text/plain": [
       "<matplotlib.figure.Figure at 0x7fbeccada2e8>"
      ]
     },
     "metadata": {},
     "output_type": "display_data"
    }
   ],
   "source": [
    "plot_image(y_autoenc[0])"
   ]
  },
  {
   "cell_type": "code",
   "execution_count": 34,
   "metadata": {},
   "outputs": [],
   "source": [
    "y = np.dot(x_train,B_t)"
   ]
  },
  {
   "cell_type": "code",
   "execution_count": 35,
   "metadata": {},
   "outputs": [
    {
     "data": {
      "image/png": "[encoded data removed]",
      "text/plain": [
       "<matplotlib.figure.Figure at 0x7fbec6d26630>"
      ]
     },
     "metadata": {},
     "output_type": "display_data"
    }
   ],
   "source": [
    "plot_image(y[0])\n"
   ]
  },
  {
   "cell_type": "code",
   "execution_count": null,
   "metadata": {},
   "outputs": [],
   "source": []
  }
 ],
 "metadata": {
  "kernelspec": {
   "display_name": "Python 3",
   "language": "python",
   "name": "python3"
  },
  "language_info": {
   "codemirror_mode": {
    "name": "ipython",
    "version": 3
   },
   "file_extension": ".py",
   "mimetype": "text/x-python",
   "name": "python",
   "nbconvert_exporter": "python",
   "pygments_lexer": "ipython3",
   "version": "3.6.3"
  }
 },
 "nbformat": 4,
 "nbformat_minor": 2
}
